{
 "cells": [
  {
   "cell_type": "markdown",
   "id": "0d5035b5",
   "metadata": {},
   "source": [
    "# Tupla\n",
    "\n",
    "## Aula 8.2"
   ]
  },
  {
   "cell_type": "markdown",
   "id": "0bdece85",
   "metadata": {},
   "source": [
    "### Q1. \n",
    "\n",
    "Escreva uma função ```calcula_area_perimetro``` que recebe **apenas um parâmetro** ```dimensoes``` e calcula a área e o perímetro a partir das dimensões dadas. \n",
    "- ```dimensoes``` é uma tupla (largura, comprimento) com as dimensões de um terreno retangular\n",
    "- Sua função deve calcular e retornar as seguintes operações\n",
    "   - $area = largura \\times comprimento$\n",
    "   - $perimetro = 2\\times(largura + comprimento)$\n"
   ]
  },
  {
   "cell_type": "code",
   "execution_count": 1,
   "id": "0a258eba",
   "metadata": {},
   "outputs": [],
   "source": [
    "# Implemente aqui a função calcula_area_perimetro\n",
    "def calcula_area_perimetro (dimensões):\n",
    "    largura, altura = dimensões\n",
    "    area = (largura * 2) + (altura * 2)\n",
    "    return area"
   ]
  },
  {
   "cell_type": "code",
   "execution_count": 2,
   "id": "e1866c04",
   "metadata": {},
   "outputs": [
    {
     "name": "stdout",
     "output_type": "stream",
     "text": [
      "24 <class 'int'>\n"
     ]
    }
   ],
   "source": [
    "# Complete o exemplo de uso abaixo\n",
    "largura = 5\n",
    "comprimento = 7\n",
    "\n",
    "x = largura, comprimento\n",
    "\n",
    "retorno = calcula_area_perimetro(x) ## complete aqui a chamada da função\n",
    "print(retorno, type(retorno))"
   ]
  },
  {
   "cell_type": "markdown",
   "id": "cbdcb986",
   "metadata": {},
   "source": [
    "### Q2.\n",
    "\n",
    "Dada uma string, imprima todas as vogais que aparecem na string, bem como todos os índices onde elas ocorrem. Para isso, use a função ```enumerate```.\n"
   ]
  },
  {
   "cell_type": "code",
   "execution_count": 20,
   "id": "1f6b1f2d",
   "metadata": {},
   "outputs": [
    {
     "name": "stdout",
     "output_type": "stream",
     "text": [
      "0 - O\n",
      "3 - a\n",
      "5 - o\n",
      "8 - o\n",
      "9 - e\n",
      "10 - u\n",
      "12 - a\n",
      "15 - o\n",
      "16 - u\n",
      "18 - a\n",
      "21 - a\n",
      "23 - A\n",
      "25 - i\n",
      "27 - e\n"
     ]
    }
   ],
   "source": [
    "frase = \"O rato roeu a roupa da Alice\"\n",
    "\n",
    "\n",
    "\n",
    "# Implemente aqui sua solução\n",
    "\n",
    "tupla = tuple(frase)\n",
    "vogais = \"AEIOUaeiou\"\n",
    "\n",
    "\n",
    "for i, elemento in enumerate(tupla):\n",
    "    if elemento in vogais:\n",
    "        print(i, '-', elemento)\n",
    "\n",
    "\n",
    "\n",
    "\n",
    "\n",
    "        \n",
    "        "
   ]
  },
  {
   "cell_type": "markdown",
   "id": "8d46663f",
   "metadata": {},
   "source": [
    "### Q3.\n",
    "\n",
    "Escreva uma função em Python chamada ```ordenar_tuplas``` que recebe uma lista de tuplas, cada uma contendo o nome de um aluno e sua respectiva média, e retorna uma nova lista ordenada em ordem decrescente de médias."
   ]
  },
  {
   "cell_type": "code",
   "execution_count": null,
   "id": "469f2e6e",
   "metadata": {},
   "outputs": [],
   "source": [
    "# Implemente aqui a função ordenar_tuplas\n",
    "\n",
    "            \n"
   ]
  },
  {
   "cell_type": "code",
   "execution_count": 24,
   "id": "1972c62b",
   "metadata": {},
   "outputs": [
    {
     "name": "stdout",
     "output_type": "stream",
     "text": [
      "[('Charlie', 9.0), ('David', 8.8), ('Alice', 8.5), ('Bob', 7.2)]\n"
     ]
    }
   ],
   "source": [
    "# Exemplo de uso:\n",
    "alunos_notas = [('Alice', 8.5), ('Bob', 7.2), ('Charlie', 9.0), ('David', 8.8)]\n",
    "alunos_ordenados = sorted(alunos_notas, key=lambda x: x[1], reverse=True)\n",
    "print (alunos_ordenados)\n",
    "\n",
    "\n",
    "# Saída esperada: [('Charlie', 9.0), ('David', 8.8), ('Alice', 8.5), ('Bob', 7.2)]"
   ]
  },
  {
   "cell_type": "markdown",
   "id": "e0268fae",
   "metadata": {},
   "source": [
    "### Q4.\n",
    "\n",
    "Escreva uma função em Python chamada ```comprimir_tuplas``` que recebe uma lista de tuplas, cada uma contendo uma palavra e um número, e retorna uma nova lista de tuplas onde palavras idênticas são agrupadas e seus números são somados.\n",
    "\n"
   ]
  },
  {
   "cell_type": "code",
   "execution_count": 8,
   "id": "30a221f3",
   "metadata": {},
   "outputs": [],
   "source": [
    "# Implemente aqui a função comprimir_tuplas\n",
    "\n",
    "def comprimir_tuplas(lista_tuplas):\n",
    "\n",
    "    lista_tuplas.sort()\n",
    "    lista_comprimida = []\n",
    "    palavra_atual = None\n",
    "    soma_atual = 0\n",
    "\n",
    "    for palavra, numero in lista_tuplas:\n",
    "        if palavra != palavra_atual:\n",
    "            if palavra_atual is not None:\n",
    "                lista_comprimida.append((palavra_atual, soma_atual))\n",
    "            palavra_atual = palavra\n",
    "            soma_atual = numero\n",
    "        else:\n",
    "            soma_atual += numero\n",
    "            \n",
    "    if palavra_atual is not None:\n",
    "        lista_comprimida.append((palavra_atual, soma_atual))\n",
    "\n",
    "    return lista_comprimida\n",
    "\n",
    "\n",
    "    \n"
   ]
  },
  {
   "cell_type": "code",
   "execution_count": 9,
   "id": "80972bac",
   "metadata": {},
   "outputs": [
    {
     "name": "stdout",
     "output_type": "stream",
     "text": [
      "[('banana', 5), ('laranja', 1), ('maçã', 8)]\n"
     ]
    }
   ],
   "source": [
    "# Exemplo de uso:\n",
    "tuplas_originais = [('maçã', 3), ('banana', 2), ('maçã', 5), ('laranja', 1), ('banana', 3)]\n",
    "resultado = comprimir_tuplas(tuplas_originais)\n",
    "print(resultado)\n",
    "# Saída esperada: [('maçã', 8), ('banana', 5), ('laranja', 1)]"
   ]
  },
  {
   "cell_type": "markdown",
   "id": "649a5082",
   "metadata": {},
   "source": [
    "### Q5. \n",
    "\n",
    "- Escreva um script que peça o nome e a idade de todos na fila de uma balada. Crie uma lista de tuplas com os pares ```(nome, idade)``` de cada um. \n",
    "- Em seguida crie e imprima duas tuplas apenas com os nomes, uma com os menores de idade que não poderão entrar, e uma com os maiores de idade (```idade >= 18```). \n",
    "\n"
   ]
  },
  {
   "cell_type": "code",
   "execution_count": 15,
   "id": "47cb0573",
   "metadata": {},
   "outputs": [
    {
     "name": "stdout",
     "output_type": "stream",
     "text": [
      "lista de não permitidos: [('marcos', 15)]\n",
      "lista de permitidos: [('pedro', 19)]\n"
     ]
    }
   ],
   "source": [
    "## Implemente aqui sua solução\n",
    "\n",
    "lista_de_pessoas = list( )\n",
    "lista_de_menores = list( )\n",
    "lista_de_maiores = list( )\n",
    "nome_pessoas = None\n",
    "\n",
    "\n",
    "\n",
    "while True:\n",
    "    nome_pessoas = str(input(\"insira o nome-pessoa da pessoa, se não houver, digite 0: \\n\"))\n",
    "    if nome_pessoas == '0':\n",
    "        break\n",
    "    idade_pessoas = int(input(\"insira a idade_pessoas da pessoa: \\n\"))\n",
    "    lista_de_pessoas.append((nome_pessoas, idade_pessoas))\n",
    "\n",
    "for nome, idade in lista_de_pessoas:\n",
    "    if idade < 18:\n",
    "        lista_de_menores.append((nome, idade))\n",
    "    \n",
    "    else:\n",
    "        lista_de_maiores.append((nome, idade))\n",
    "\n",
    "print (f\"lista de não permitidos: {lista_de_menores}\")\n",
    "print (f\"lista de permitidos: {lista_de_maiores}\")\n",
    "\n",
    "\n"
   ]
  },
  {
   "cell_type": "code",
   "execution_count": null,
   "id": "129ef4a2",
   "metadata": {},
   "outputs": [],
   "source": []
  }
 ],
 "metadata": {
  "kernelspec": {
   "display_name": "Python 3 (ipykernel)",
   "language": "python",
   "name": "python3"
  },
  "language_info": {
   "codemirror_mode": {
    "name": "ipython",
    "version": 3
   },
   "file_extension": ".py",
   "mimetype": "text/x-python",
   "name": "python",
   "nbconvert_exporter": "python",
   "pygments_lexer": "ipython3",
   "version": "3.12.2"
  }
 },
 "nbformat": 4,
 "nbformat_minor": 5
}
