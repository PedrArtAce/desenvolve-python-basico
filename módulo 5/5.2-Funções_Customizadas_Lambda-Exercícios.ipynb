{
 "cells": [
  {
   "cell_type": "markdown",
   "id": "cbdff5a5",
   "metadata": {},
   "source": [
    "# Módulo 5 - Funções\n",
    "\n",
    "## Aulas 5.2 - Funções Customizadas e 5.4 Funções ```lambda```"
   ]
  },
  {
   "cell_type": "markdown",
   "id": "28a3fee2",
   "metadata": {},
   "source": [
    "### Q1.\n",
    "\n",
    "- Sabendo que o código a seguir calcula o fatorial de n, escreva uma função chamada ```fatorial()``` que recebe um inteiro ```n``` como parâmetro e retorna o resultado do fatorial de ```n```. \n",
    "- No programa principal, peça ao usuário o valor de ```n```, chame a sua função e imprima o retorno.\n",
    "\n",
    "```python\n",
    "fat = 1\n",
    "for i in range(1, n+1):\n",
    "    fat *= i \n",
    "```"
   ]
  },
  {
   "cell_type": "code",
   "execution_count": 5,
   "id": "d126b3a5",
   "metadata": {},
   "outputs": [],
   "source": [
    "## Crie aqui a função fatorial()\n",
    "## lembre-se de executar a célula para que \n",
    "## a função passe a existir e possa ser chamada\n",
    "\n",
    "def fatorial (n):\n",
    "    fat = 1 \n",
    "    for i in range (1, n+1):\n",
    "        fat *= i \n",
    "    return fat\n",
    "\n"
   ]
  },
  {
   "cell_type": "code",
   "execution_count": null,
   "id": "6e4fe64e",
   "metadata": {},
   "outputs": [],
   "source": [
    "## Escreva aqui o programa principal e execute a célula\n",
    "x = int(input(\"insira um numero: \"))\n",
    "r = fatorial(x)\n",
    "print (r)"
   ]
  },
  {
   "cell_type": "markdown",
   "id": "c0a1f599",
   "metadata": {},
   "source": [
    "### Q2.\n",
    "\n",
    "- Escreva uma função em Python chamada ```soma_quadrados``` que recebe dois números como parâmetros e retorna a soma dos seus quadrados. \n",
    "- No programa principal solicite ao usuário que insira dois números e utilize a função para exibir a soma dos quadrados."
   ]
  },
  {
   "cell_type": "code",
   "execution_count": 4,
   "id": "6dbddaad",
   "metadata": {},
   "outputs": [],
   "source": [
    "## Crie aqui a função soma_quadrados()\n",
    "def soma_quadrados(n1, n2):\n",
    "    r = (n1 ** 2) + (n2 ** 2)\n",
    "    return r "
   ]
  },
  {
   "cell_type": "code",
   "execution_count": 6,
   "id": "9175a7da",
   "metadata": {},
   "outputs": [
    {
     "name": "stdout",
     "output_type": "stream",
     "text": [
      "8\n"
     ]
    }
   ],
   "source": [
    "## Escreva aqui o programa principal e execute a célula\n",
    "n1 = int(input(\"insira o primeiro numero: \"))\n",
    "n2 = int(input(\"insira o segundo numero: \"))\n",
    "\n",
    "r = soma_quadrados(n1,n2)\n",
    "print (r)\n"
   ]
  },
  {
   "cell_type": "markdown",
   "id": "6ba34ce0",
   "metadata": {},
   "source": [
    "### Q3.\n",
    "\n",
    "- Crie uma função em Python chamada ```soma_digitos``` que recebe um número inteiro como parâmetro e retorna a soma dos seus dígitos. Por exemplo, para o número 123, a função deve retornar 6, $(1 + 2 + 3)$.\n",
    "    - O desafio aqui é separar os dígitos de um número inteiro usando operações aritméticas <br> <br>\n",
    "\n",
    "- No programa principal solicite ao usuário que insira um número e utilize a função ```soma_digitos``` para calcular e exibir a soma dos seus dígitos."
   ]
  },
  {
   "cell_type": "code",
   "execution_count": 12,
   "id": "34838ebf",
   "metadata": {},
   "outputs": [],
   "source": [
    "## Crie aqui a função soma_digitos()\n",
    "def soma_digitos(n):\n",
    "    soma = 0 \n",
    "    while n != 0:\n",
    "        soma += n % 10 \n",
    "        n = n // 10\n",
    "    return soma"
   ]
  },
  {
   "cell_type": "code",
   "execution_count": 13,
   "id": "27c35b21",
   "metadata": {},
   "outputs": [
    {
     "name": "stdout",
     "output_type": "stream",
     "text": [
      "6\n"
     ]
    }
   ],
   "source": [
    "## Escreva aqui o programa principal e execute a célula\n",
    "n = int(input(\"insira um numero: \"))\n",
    "r = soma_digitos(n)\n",
    "print(r)"
   ]
  },
  {
   "cell_type": "markdown",
   "id": "c318b159",
   "metadata": {},
   "source": [
    "### Q4.\n",
    "\n",
    "- Crie a função ```inverteValor()``` que recebe um inteiro de qualquer tamanho e retorna esse valor invertido usando apenas operações aritméticas\n",
    "- Crie a função ```verificaInverso()``` que recebe o valor original e o valor invertido e retorna verdadeiro se ambos forem igualmente par ou igualmente ímpar. Retorne falso caso contrário.\n",
    "- No programa principal, peça um valor do usuário e imprima o retorno de ambas as funções.\n"
   ]
  },
  {
   "cell_type": "code",
   "execution_count": null,
   "id": "e4e47d1d",
   "metadata": {},
   "outputs": [],
   "source": [
    "## Crie aqui as funções inverteValor() e verificaInverso()\n",
    "def inversor (valor):\n",
    "    num_inverso = 0\n",
    "    while valor > 0.01:\n",
    "        valor_novo = valor % 10\n",
    "        valor = valor // 10    \n",
    "        num_inverso = num_inverso * 10 + valor_novo\n",
    "    return num_inverso\n"
   ]
  },
  {
   "cell_type": "code",
   "execution_count": null,
   "id": "a9514e56",
   "metadata": {},
   "outputs": [],
   "source": [
    "## Escreva aqui o programa principal e execute a célula\n",
    "a = int(input(\"Insira o numero a ser invertido: \"))\n",
    "r = inversor (a)\n",
    "print(f\"Esse numero invertido fica {r}\")\n",
    "\n",
    "c = int(input(\"Qual o valor base?: \"))\n",
    "d = int(input(\"Qual o valor supostamente invertido?: \"))\n",
    "\n",
    "val_inver = inversor(c)\n",
    "if val_inver == d:\n",
    "    print(\"Esse valor é igual ao primeiro, mas invertido\")\n",
    "else:\n",
    "    print(\"Esses valores não tem nenhuma relação\")\n",
    "\n"
   ]
  },
  {
   "cell_type": "markdown",
   "id": "329be966",
   "metadata": {},
   "source": [
    "### Q5.\n",
    "\n",
    "Você está desenvolvendo um programa para auxiliar em cálculos de geometria básica. Crie as seguintes funções:\n",
    "- A função ```calcula_perimetro_triangulo()``` que recebe três inteiros correspondentes aos lados de um triângulo e retorna o perímetro do triângulo, ou seja, a soma dos seus lados.\n",
    "- A função ```calcula_perimetro_circulo()``` que recebe um inteiro referente ao raio do círculo e retorna o perímetro do círculo, dado por $2 \\pi r$. Use a constante $\\pi$ da biblioteca ```math```.\n",
    "- A função ```calcula_perimetro_retangulo()``` que possui um parâmetro obrigatório ```lado1``` e um opcional ```lado2```, ambos inteiros. Se o valor opcional não for fornecido, significa que se trata de um quadrado. Sua função deve calcular e retornar o perímetro do retângulo, ou seja, a soma de seus lados. \n",
    "    - Para o quadrado, é dado por $4 \\times lado1$\n",
    "    - Para o retângulo é dado por $2 \\times lado1 + 2 \\times lado2$\n",
    "    \n",
    "- No programa principal apresente um menu com as opções disponíveis do seu sistema e uma quarta opção ```Sair```. Solicite ao usuário a opção desejada, solicite as entradas correspondentes à opção escolhida, invoque a respective função e apresente o seu retorno. Seu programa deve retornar ao menu até que o usuário escolha a opção ```Sair```\n",
    "\n",
    "Exemplo de interação:\n",
    "```\n",
    "1 - Calcular perímetro triângulo\n",
    "2 - Calcular perímetro círculo\n",
    "3 - Calcular perímetro retângulo\n",
    "4 - Sair\n",
    "\n",
    "Opção: 1\n",
    "Digite os três lados do triângulo:\n",
    "3\n",
    "4\n",
    "5\n",
    "O perímetro é: 12\n",
    "\n",
    "1 - Calcular perímetro triângulo\n",
    "2 - Calcular perímetro círculo\n",
    "3 - Calcular perímetro retângulo\n",
    "4 - Sair\n",
    "\n",
    "Opção: 3\n",
    "Informe os dois lados do retângulo. Se for um quadrado, digite 0 para o segundo valor:\n",
    "5\n",
    "0\n",
    "O perímetro é: 20\n",
    "\n",
    "1 - Calcular perímetro triângulo\n",
    "2 - Calcular perímetro círculo\n",
    "3 - Calcular perímetro retângulo\n",
    "4 - Sair\n",
    "\n",
    "Opção: 4\n",
    "```"
   ]
  },
  {
   "cell_type": "code",
   "execution_count": 3,
   "id": "0793d328",
   "metadata": {},
   "outputs": [],
   "source": [
    "## Crie aqui as funções \n",
    "import math\n",
    "def calcula_perimetro_triangulo(x, y, z):\n",
    "    r = x + y + z\n",
    "    return r \n",
    "\n",
    "def calcula_perimetro_circulo(x):\n",
    "    r = (2 * math.pi) * x \n",
    "    return r \n",
    "\n",
    "def calcula_perimetro_retangulo(x, y):\n",
    "    if y == 0:\n",
    "        y = x\n",
    "    r = (2 * y) + (2 * x)\n",
    "    return r \n",
    "    \n",
    "    \n",
    "\n"
   ]
  },
  {
   "cell_type": "code",
   "execution_count": 4,
   "id": "36269c71",
   "metadata": {},
   "outputs": [
    {
     "name": "stdout",
     "output_type": "stream",
     "text": [
      "1 - Perimetro do triangulo\n",
      "2 - Perimetro do circulo\n",
      "3 - Perimetro do retangulo\n",
      "4 - Sair\n",
      "O perimetro é: 12.0\n",
      "1 - Perimetro do triangulo\n",
      "2 - Perimetro do circulo\n",
      "3 - Perimetro do retangulo\n",
      "4 - Sair\n"
     ]
    }
   ],
   "source": [
    "## Escreva aqui o programa principal \n",
    "\n",
    "while True:\n",
    "    print(\"1 - Perimetro do triangulo\")\n",
    "    print(\"2 - Perimetro do circulo\")\n",
    "    print(\"3 - Perimetro do retangulo\")\n",
    "    print(\"4 - Sair\")\n",
    "\n",
    "    resp = int(input(\"Escolha a sua opção: \"))\n",
    "\n",
    "    if resp == 1:\n",
    "        x = float(input(\"insira o lado 1 do triangulo: \"))\n",
    "        y = float(input(\"insira o lado 2 do triangulo: \"))\n",
    "        z = float(input(\"insira o lado 3 do triangulo: \"))\n",
    "\n",
    "        r = calcula_perimetro_triangulo(x, y, z)\n",
    "        print(f\"o perimetro é: {r}\")\n",
    "        continue\n",
    "\n",
    "    elif resp == 2:\n",
    "        x = float(input(\"insira o raio do circulo: \"))\n",
    "\n",
    "        r = calcula_perimetro_circulo(x)\n",
    "        print(f\"O perimetro é {r}\")\n",
    "        continue\n",
    "    \n",
    "    elif resp == 3:\n",
    "        x = float(input(\"insira o lado 1 do retangulo: \"))\n",
    "        y = float(input(\"insira o lado 2 do retangulo: \"))\n",
    "\n",
    "        r = calcula_perimetro_retangulo(x, y)\n",
    "        print (f\"O perimetro é: {r}\")\n",
    "        continue\n",
    "\n",
    "    elif resp == 4:\n",
    "        break\n",
    "\n",
    "\n",
    "\n"
   ]
  },
  {
   "cell_type": "markdown",
   "id": "3016bcc7",
   "metadata": {},
   "source": [
    "## Funções ```lambda```"
   ]
  },
  {
   "cell_type": "markdown",
   "id": "f9cdb8dd",
   "metadata": {},
   "source": [
    "### Q6.\n",
    "\n",
    "Crie uma função lambda para verificar se um número é par ou ímpar. Em seguida, solicite ao usuário um número indefinidos de valores (até que o usuário digite 0). Para cada valor de entrada, informe se é par ou ímpar.\n",
    "\n",
    "Exemplo de interação:\n",
    "```\n",
    "Digite os valores que deseja verificar a paridade (digite 0 para finalizar a entrada de dados):\n",
    "3\n",
    "ímpar\n",
    "8\n",
    "par\n",
    "12\n",
    "par\n",
    "5\n",
    "ímpar\n",
    "7ímpar\n",
    "```"
   ]
  },
  {
   "cell_type": "code",
   "execution_count": 6,
   "id": "e3c31a78",
   "metadata": {},
   "outputs": [
    {
     "name": "stdout",
     "output_type": "stream",
     "text": [
      "Digite os valores que deseja verificar a paridade (digite 0 para encerrar)\n",
      "Par\n",
      "Par\n",
      "Impar\n",
      "Impar\n",
      "Impar\n",
      "Impar\n"
     ]
    }
   ],
   "source": [
    "print(\"Digite os valores que deseja verificar a paridade (digite 0 para encerrar)\")\n",
    "x = lambda a: a % 2\n",
    "while True: \n",
    "    n = int(input(\"insira o numero\"))\n",
    "    if n == 0:\n",
    "        break\n",
    "\n",
    "    elif x(n) == 0:\n",
    "        print(\"Par\")\n",
    "\n",
    "    else:\n",
    "        print(\"Impar\")\n",
    "    \n",
    "    "
   ]
  },
  {
   "cell_type": "markdown",
   "id": "5a87474d",
   "metadata": {},
   "source": [
    "### Q7.\n",
    "\n",
    "Escreva um programa que pergunte ao usuário qual operação ele deseja: maior ou menor.\n",
    "Em seguida leia uma quantidade indefinida de valores do usuário, até que o usuário digite o valor zero.\n",
    "Apresente ao final o maior ou menor dos valores digitados de acordo com a escolha do usuário.\n",
    "\n",
    "**Sua solução deve incluir pelo menos uma função ```lambda```** \n",
    "\n",
    "Exemplo de interação:\n",
    "```\n",
    "Opções: (1) maior ou (2) menor?\n",
    "Opção: 1\n",
    "\n",
    "Digite os valores de entrada. Digite 0 para finalizar a entrada de valores.\n",
    "4\n",
    "12\n",
    "15\n",
    "1\n",
    "0\n",
    "\n",
    "O maior valor é: 15\n",
    "```"
   ]
  },
  {
   "cell_type": "code",
   "execution_count": 2,
   "id": "ee3f68ca",
   "metadata": {},
   "outputs": [
    {
     "name": "stdout",
     "output_type": "stream",
     "text": [
      "1 - Maior\n",
      "2 - Menor\n",
      "0\n",
      "0\n",
      "0\n",
      "0\n",
      "0\n",
      "0\n",
      "0\n",
      "0\n"
     ]
    },
    {
     "ename": "ValueError",
     "evalue": "invalid literal for int() with base 10: ''",
     "output_type": "error",
     "traceback": [
      "\u001b[1;31m---------------------------------------------------------------------------\u001b[0m",
      "\u001b[1;31mValueError\u001b[0m                                Traceback (most recent call last)",
      "\u001b[1;32mc:\\Users\\Administrador\\Downloads\\5.2-Funções_Customizadas_Lambda-Exercícios.ipynb Cell 21\u001b[0m line \u001b[0;36m1\n\u001b[0;32m     <a href='vscode-notebook-cell:/c%3A/Users/Administrador/Downloads/5.2-Fun%C3%A7%C3%B5es_Customizadas_Lambda-Exerc%C3%ADcios.ipynb#X26sZmlsZQ%3D%3D?line=12'>13</a>\u001b[0m     a \u001b[39m=\u001b[39m \u001b[39mlambda\u001b[39;00m a, b: a\u001b[39m<\u001b[39mb\n\u001b[0;32m     <a href='vscode-notebook-cell:/c%3A/Users/Administrador/Downloads/5.2-Fun%C3%A7%C3%B5es_Customizadas_Lambda-Exerc%C3%ADcios.ipynb#X26sZmlsZQ%3D%3D?line=14'>15</a>\u001b[0m \u001b[39mwhile\u001b[39;00m \u001b[39mTrue\u001b[39;00m:\n\u001b[1;32m---> <a href='vscode-notebook-cell:/c%3A/Users/Administrador/Downloads/5.2-Fun%C3%A7%C3%B5es_Customizadas_Lambda-Exerc%C3%ADcios.ipynb#X26sZmlsZQ%3D%3D?line=15'>16</a>\u001b[0m     n \u001b[39m=\u001b[39m \u001b[39mint\u001b[39;49m(\u001b[39minput\u001b[39;49m(\u001b[39m\"\u001b[39;49m\u001b[39minsira o numero: \u001b[39;49m\u001b[39m\"\u001b[39;49m))\n\u001b[0;32m     <a href='vscode-notebook-cell:/c%3A/Users/Administrador/Downloads/5.2-Fun%C3%A7%C3%B5es_Customizadas_Lambda-Exerc%C3%ADcios.ipynb#X26sZmlsZQ%3D%3D?line=16'>17</a>\u001b[0m     \u001b[39mif\u001b[39;00m n \u001b[39m==\u001b[39m \u001b[39m0\u001b[39m:\n\u001b[0;32m     <a href='vscode-notebook-cell:/c%3A/Users/Administrador/Downloads/5.2-Fun%C3%A7%C3%B5es_Customizadas_Lambda-Exerc%C3%ADcios.ipynb#X26sZmlsZQ%3D%3D?line=17'>18</a>\u001b[0m         \u001b[39mbreak\u001b[39;00m\n",
      "\u001b[1;31mValueError\u001b[0m: invalid literal for int() with base 10: ''"
     ]
    }
   ],
   "source": [
    "## Escreva aqui o programa principal \n",
    "print(\"1 - Maior\")\n",
    "print(\"2 - Menor\")\n",
    "\n",
    "op = int(input(\"insira a escolha: \"))\n",
    "\n",
    "if op == 1:\n",
    "    r = 0\n",
    "    a = lambda a, b: a>b\n",
    "\n",
    "if op == 2:\n",
    "    r = 0\n",
    "    a = lambda a, b: a<b\n",
    "\n",
    "while True:\n",
    "    n = int(input(\"insira o numero: \"))\n",
    "    if n == 0:\n",
    "        break\n",
    "    \n",
    "    if a(n, r):\n",
    "        print (r)\n",
    "    \n",
    "\n"
   ]
  },
  {
   "cell_type": "code",
   "execution_count": null,
   "metadata": {},
   "outputs": [],
   "source": []
  }
 ],
 "metadata": {
  "kernelspec": {
   "display_name": "Python 3 (ipykernel)",
   "language": "python",
   "name": "python3"
  },
  "language_info": {
   "codemirror_mode": {
    "name": "ipython",
    "version": 3
   },
   "file_extension": ".py",
   "mimetype": "text/x-python",
   "name": "python",
   "nbconvert_exporter": "python",
   "pygments_lexer": "ipython3",
   "version": "3.12.2"
  }
 },
 "nbformat": 4,
 "nbformat_minor": 5
}
